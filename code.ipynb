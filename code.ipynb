{
 "cells": [
  {
   "cell_type": "code",
   "execution_count": 1,
   "metadata": {},
   "outputs": [],
   "source": [
    "from langchain_openai import OpenAIEmbeddings\n",
    "from langchain.text_splitter import RecursiveCharacterTextSplitter\n",
    "from langchain_community.document_loaders import TextLoader, DirectoryLoader\n",
    "from langchain_community.vectorstores import Chroma\n",
    "from dotenv import load_dotenv, find_dotenv\n",
    "\n",
    "load_dotenv(find_dotenv())\n",
    "\n",
    "__import__('pysqlite3')\n",
    "import sys\n",
    "sys.modules['sqlite3'] = sys.modules.pop('pysqlite3')"
   ]
  },
  {
   "cell_type": "code",
   "execution_count": 2,
   "metadata": {},
   "outputs": [],
   "source": [
    "loader = DirectoryLoader('./', glob=\"./data/*.txt\", loader_cls=TextLoader)\n",
    "docs = loader.load()"
   ]
  },
  {
   "cell_type": "code",
   "execution_count": 3,
   "metadata": {},
   "outputs": [],
   "source": [
    "text_splitter = RecursiveCharacterTextSplitter(\n",
    "    chunk_size=100,\n",
    "    chunk_overlap=10,\n",
    "    length_function=len\n",
    ")\n",
    "new_docs = text_splitter.split_documents(documents=docs)\n",
    "doc_strings = [doc.page_content for doc in new_docs]"
   ]
  },
  {
   "cell_type": "code",
   "execution_count": 4,
   "metadata": {},
   "outputs": [],
   "source": [
    "embeddings = OpenAIEmbeddings(model=\"text-embedding-3-small\")\n",
    "vectors = embeddings.embed_documents(doc_strings)"
   ]
  },
  {
   "cell_type": "code",
   "execution_count": 5,
   "metadata": {},
   "outputs": [],
   "source": [
    "db = Chroma.from_documents(new_docs, embeddings)\n",
    "retriever = db.as_retriever(search_kwargs={\"k\": 6})"
   ]
  },
  {
   "cell_type": "code",
   "execution_count": 6,
   "metadata": {},
   "outputs": [
    {
     "name": "stderr",
     "output_type": "stream",
     "text": [
      "/usr/local/lib/python3.12/site-packages/tqdm/auto.py:21: TqdmWarning: IProgress not found. Please update jupyter and ipywidgets. See https://ipywidgets.readthedocs.io/en/stable/user_install.html\n",
      "  from .autonotebook import tqdm as notebook_tqdm\n",
      "/usr/local/lib/python3.12/site-packages/umap/umap_.py:1943: UserWarning: n_jobs value -1 overridden to 1 by setting random_state. Use no seed for parallelism.\n",
      "  warn(f\"n_jobs value {self.n_jobs} overridden to 1 by setting random_state. Use no seed for parallelism.\")\n"
     ]
    }
   ],
   "source": [
    "import umap\n",
    "import numpy as np\n",
    "from tqdm import tqdm\n",
    "\n",
    "umap_transformer = umap.UMAP(random_state=0, transform_seed=0).fit(vectors)"
   ]
  },
  {
   "cell_type": "code",
   "execution_count": 8,
   "metadata": {},
   "outputs": [],
   "source": [
    "def umap_embed(vectors, umap_transformer):\n",
    "    umap_embeddings = np.array([umap_transformer.transform([vector])[0] for vector in tqdm(vectors)])\n",
    "    return umap_embeddings"
   ]
  },
  {
   "cell_type": "code",
   "execution_count": 9,
   "metadata": {},
   "outputs": [
    {
     "name": "stderr",
     "output_type": "stream",
     "text": [
      "100%|██████████| 63/63 [00:54<00:00,  1.16it/s]\n"
     ]
    }
   ],
   "source": [
    "global_embeddings = umap_embed(vectors, umap_transformer)"
   ]
  },
  {
   "cell_type": "code",
   "execution_count": 10,
   "metadata": {},
   "outputs": [
    {
     "data": {
      "text/plain": [
       "array([[ 2.9165823 ,  1.200334  ],\n",
       "       [ 3.711599  ,  3.0885901 ],\n",
       "       [ 2.7367675 ,  1.129692  ],\n",
       "       [ 0.22712027,  3.0107708 ],\n",
       "       [ 2.5457284 ,  3.5268698 ],\n",
       "       [ 2.2429779 ,  1.1581837 ],\n",
       "       [ 0.5123389 ,  3.3433192 ],\n",
       "       [ 2.1722987 ,  3.9286509 ],\n",
       "       [ 1.3794788 ,  4.015376  ],\n",
       "       [ 0.63424367,  3.6070254 ],\n",
       "       [ 2.5518389 ,  1.0997329 ],\n",
       "       [ 0.28760117,  1.8052742 ],\n",
       "       [ 0.6060534 ,  1.4936284 ],\n",
       "       [ 0.6577569 ,  1.4636978 ],\n",
       "       [ 2.1603684 ,  1.228075  ],\n",
       "       [ 1.1743997 ,  1.1958977 ],\n",
       "       [ 0.5251845 ,  3.3578773 ],\n",
       "       [ 0.52554923,  3.3729181 ],\n",
       "       [ 2.8883977 ,  3.5761347 ],\n",
       "       [ 2.2311535 ,  1.1733662 ],\n",
       "       [ 1.3003398 ,  1.18875   ],\n",
       "       [ 0.7539505 ,  1.4390622 ],\n",
       "       [ 3.2737029 ,  1.4484979 ],\n",
       "       [ 0.5015563 ,  1.573985  ],\n",
       "       [ 3.1433957 ,  1.3587598 ],\n",
       "       [ 2.9838667 ,  3.20721   ],\n",
       "       [ 3.819942  ,  2.8838995 ],\n",
       "       [ 3.506981  ,  2.1526268 ],\n",
       "       [ 2.8843186 ,  3.2973018 ],\n",
       "       [ 7.4321227 ,  9.1118145 ],\n",
       "       [ 9.034288  ,  7.195498  ],\n",
       "       [ 7.0029526 ,  7.749559  ],\n",
       "       [ 6.8940587 ,  8.649606  ],\n",
       "       [ 9.723282  ,  7.302049  ],\n",
       "       [ 9.75674   ,  7.3754053 ],\n",
       "       [10.351509  ,  7.980849  ],\n",
       "       [ 9.551847  ,  7.207125  ],\n",
       "       [ 9.83059   ,  9.479572  ],\n",
       "       [ 9.559914  ,  9.4515705 ],\n",
       "       [ 9.215447  ,  9.429289  ],\n",
       "       [ 9.039315  ,  7.201887  ],\n",
       "       [ 9.749247  ,  9.479609  ],\n",
       "       [ 9.569871  ,  9.456713  ],\n",
       "       [ 9.119507  ,  7.2042317 ],\n",
       "       [ 6.9137173 ,  8.736614  ],\n",
       "       [10.360283  ,  8.125016  ],\n",
       "       [10.481617  ,  8.901015  ],\n",
       "       [ 7.1810517 ,  9.011005  ],\n",
       "       [ 7.4055552 ,  9.183298  ],\n",
       "       [ 8.432223  ,  6.828631  ],\n",
       "       [ 8.21825   ,  6.3815665 ],\n",
       "       [ 7.7302275 ,  9.3963995 ],\n",
       "       [ 9.0991745 ,  9.448345  ],\n",
       "       [ 8.422933  ,  9.598332  ],\n",
       "       [ 6.772621  ,  8.229879  ],\n",
       "       [ 7.3060937 ,  5.89416   ],\n",
       "       [ 7.4355745 ,  5.9964523 ],\n",
       "       [ 6.884993  ,  8.652405  ],\n",
       "       [ 7.1547365 ,  5.8107157 ],\n",
       "       [ 7.5556555 ,  6.0437484 ],\n",
       "       [ 6.955948  ,  8.783868  ],\n",
       "       [ 7.7385535 ,  9.388923  ],\n",
       "       [ 8.206162  ,  6.419838  ]], dtype=float32)"
      ]
     },
     "execution_count": 10,
     "metadata": {},
     "output_type": "execute_result"
    }
   ],
   "source": [
    "global_embeddings"
   ]
  },
  {
   "cell_type": "code",
   "execution_count": 11,
   "metadata": {},
   "outputs": [
    {
     "data": {
      "text/plain": [
       "(-0.2856045700609684,\n",
       " 10.994341809302568,\n",
       " 0.6748028993606567,\n",
       " 10.02326238155365)"
      ]
     },
     "execution_count": 11,
     "metadata": {},
     "output_type": "execute_result"
    },
    {
     "data": {
      "image/png": "[encoded data removed]",
      "text/plain": [
       "<Figure size 640x480 with 1 Axes>"
      ]
     },
     "metadata": {},
     "output_type": "display_data"
    }
   ],
   "source": [
    "import matplotlib.pyplot as plt\n",
    "\n",
    "plt.figure()\n",
    "plt.scatter(global_embeddings[:, 0], global_embeddings[:, 1], s=10)\n",
    "plt.gca().set_aspect('equal', 'datalim')\n",
    "plt.title('Embeddings')\n",
    "plt.axis('off')"
   ]
  },
  {
   "cell_type": "code",
   "execution_count": 12,
   "metadata": {},
   "outputs": [],
   "source": [
    "def calc_global_embeddings(query, embeddings, retriever, umap_transformer, embed_function, global_embeddings):\n",
    "    q_embedding = embeddings.embed_query(query)\n",
    "\n",
    "    docs = retriever.get_relevant_documents(query)\n",
    "    page_contents = [doc.page_content for doc in docs]\n",
    "    vectors_content_vectors = embeddings.embed_documents(page_contents)\n",
    "\n",
    "    query_embeddings = embed_function([q_embedding], umap_transformer)\n",
    "    retrieved_embeddings = embed_function(vectors_content_vectors, umap_transformer)\n",
    "\n",
    "    plt.figure()\n",
    "    plt.scatter(global_embeddings[:, 0], global_embeddings[:, 1], s=10, color='gray')\n",
    "    plt.scatter(query_embeddings[:, 0], query_embeddings[:, 1], s=150, marker='X', color='r')\n",
    "    plt.scatter(retrieved_embeddings[:, 0], retrieved_embeddings[:, 1], s=50, facecolors='none', edgecolors='g')\n",
    "    plt.gca().set_aspect('equal', 'datalim')\n",
    "    plt.title(f'{query}')\n",
    "    plt.axis('off')\n",
    "    plt.show()\n"
   ]
  },
  {
   "cell_type": "code",
   "execution_count": 13,
   "metadata": {},
   "outputs": [
    {
     "name": "stderr",
     "output_type": "stream",
     "text": [
      "100%|██████████| 1/1 [00:00<00:00,  1.10it/s]\n",
      "100%|██████████| 6/6 [00:05<00:00,  1.02it/s]\n"
     ]
    },
    {
     "data": {
      "image/png": "[encoded data removed]",
      "text/plain": [
       "<Figure size 640x480 with 1 Axes>"
      ]
     },
     "metadata": {},
     "output_type": "display_data"
    }
   ],
   "source": [
    "calc_global_embeddings(\"What loan do you offer?\", embeddings, retriever, umap_transformer, umap_embed, global_embeddings)"
   ]
  },
  {
   "cell_type": "code",
   "execution_count": 14,
   "metadata": {},
   "outputs": [
    {
     "name": "stderr",
     "output_type": "stream",
     "text": [
      "100%|██████████| 1/1 [00:00<00:00,  1.15it/s]\n",
      "100%|██████████| 6/6 [00:05<00:00,  1.16it/s]\n"
     ]
    },
    {
     "data": {
      "image/png": "[encoded data removed]",
      "text/plain": [
       "<Figure size 640x480 with 1 Axes>"
      ]
     },
     "metadata": {},
     "output_type": "display_data"
    }
   ],
   "source": [
    "calc_global_embeddings(\"Do you offer vegetarian food?\", embeddings, retriever, umap_transformer, umap_embed, global_embeddings)\n"
   ]
  },
  {
   "cell_type": "markdown",
   "metadata": {},
   "source": [
    "### Query Expansion "
   ]
  },
  {
   "cell_type": "code",
   "execution_count": 16,
   "metadata": {},
   "outputs": [],
   "source": [
    "from langchain.chat_models import ChatOpenAI\n",
    "\n",
    "llm = ChatOpenAI(\n",
    "        temperature=0,\n",
    "        max_tokens=800,\n",
    "        model_kwargs={\"top_p\": 0, \"frequency_penalty\": 0, \"presence_penalty\": 0},\n",
    "    )\n"
   ]
  },
  {
   "cell_type": "code",
   "execution_count": 22,
   "metadata": {},
   "outputs": [
    {
     "data": {
      "text/plain": [
       "['Do you provide plant-based meal options?',\n",
       " 'Are vegetarian dishes available on your menu?',\n",
       " 'Do you have any meatless food choices?',\n",
       " 'Are there vegetarian-friendly options on your menu?',\n",
       " 'Do you cater to customers looking for vegetarian meals?']"
      ]
     },
     "execution_count": 22,
     "metadata": {},
     "output_type": "execute_result"
    }
   ],
   "source": [
    "from langchain.chains import LLMChain\n",
    "from langchain.output_parsers import PydanticOutputParser\n",
    "from langchain.prompts import PromptTemplate\n",
    "from pydantic import BaseModel, Field\n",
    "\n",
    "query = \"Do you offer vegetarian food?\"\n",
    "\n",
    "class LineList(BaseModel):\n",
    "    lines: list[str] = Field(description=\"Lines of text\")\n",
    "\n",
    "\n",
    "\n",
    "QUERY_PROMPT = PromptTemplate(\n",
    "    input_variables=[\"question\"],\n",
    "    template=\"\"\"You are an AI language model assistant. Your task is to generate five\n",
    "    different versions of the given user question to retrieve relevant documents from a vector\n",
    "    database. By generating multiple perspectives on the user question, your goal is to help\n",
    "    the user overcome some of the limitations of the distance-based similarity search.\n",
    "    Provide these alternative questions separated by newlines. Only provide the query, no numbering.\n",
    "    Original question: {question}\"\"\",\n",
    ")\n",
    "\n",
    "llm_chain = LLMChain(llm=llm, prompt=QUERY_PROMPT)\n",
    "queries = llm_chain.invoke(query)\n",
    "queries = queries.get(\"text\").strip().split(\"\\n\")\n",
    "queries"
   ]
  },
  {
   "cell_type": "code",
   "execution_count": 24,
   "metadata": {},
   "outputs": [
    {
     "data": {
      "text/plain": [
       "[[Document(page_content='La Bella Vita also prides itself on its vegetarian and vegan options, catering to all dietary', metadata={'source': 'data/data2.txt'}),\n",
       "  Document(page_content='dietary preferences. Dishes like eggplant parmigiana and mushroom risotto are crafted with the same', metadata={'source': 'data/data2.txt'}),\n",
       "  Document(page_content='the same attention to detail and flavor as their meat-based counterparts.', metadata={'source': 'data/data2.txt'}),\n",
       "  Document(page_content='La Bella Vita also offers a unique dining experience with its private dining rooms and catering', metadata={'source': 'data/data2.txt'}),\n",
       "  Document(page_content='the restaurant provides a personalized service that makes every event memorable.', metadata={'source': 'data/data2.txt'}),\n",
       "  Document(page_content='cooking expertise to the table. The menu features a variety of regional specialties, showcasing the', metadata={'source': 'data/data2.txt'})],\n",
       " [Document(page_content='dietary preferences. Dishes like eggplant parmigiana and mushroom risotto are crafted with the same', metadata={'source': 'data/data2.txt'}),\n",
       "  Document(page_content='La Bella Vita also prides itself on its vegetarian and vegan options, catering to all dietary', metadata={'source': 'data/data2.txt'}),\n",
       "  Document(page_content='The meat and fish dishes are equally impressive, with offerings like osso buco, saltimbocca, and', metadata={'source': 'data/data2.txt'}),\n",
       "  Document(page_content='cooking expertise to the table. The menu features a variety of regional specialties, showcasing the', metadata={'source': 'data/data2.txt'}),\n",
       "  Document(page_content='The pasta selection is a highlight of the menu, featuring classics like lasagna, ravioli, and', metadata={'source': 'data/data2.txt'}),\n",
       "  Document(page_content='La Bella Vita also offers a unique dining experience with its private dining rooms and catering', metadata={'source': 'data/data2.txt'})],\n",
       " [Document(page_content='dietary preferences. Dishes like eggplant parmigiana and mushroom risotto are crafted with the same', metadata={'source': 'data/data2.txt'}),\n",
       "  Document(page_content='La Bella Vita also prides itself on its vegetarian and vegan options, catering to all dietary', metadata={'source': 'data/data2.txt'}),\n",
       "  Document(page_content='the same attention to detail and flavor as their meat-based counterparts.', metadata={'source': 'data/data2.txt'}),\n",
       "  Document(page_content='The meat and fish dishes are equally impressive, with offerings like osso buco, saltimbocca, and', metadata={'source': 'data/data2.txt'}),\n",
       "  Document(page_content='The pasta selection is a highlight of the menu, featuring classics like lasagna, ravioli, and', metadata={'source': 'data/data2.txt'}),\n",
       "  Document(page_content='from rich and creamy to light and zesty, are made with the freshest ingredients, bringing out the', metadata={'source': 'data/data2.txt'})],\n",
       " [Document(page_content='La Bella Vita also prides itself on its vegetarian and vegan options, catering to all dietary', metadata={'source': 'data/data2.txt'}),\n",
       "  Document(page_content='dietary preferences. Dishes like eggplant parmigiana and mushroom risotto are crafted with the same', metadata={'source': 'data/data2.txt'}),\n",
       "  Document(page_content='The pasta selection is a highlight of the menu, featuring classics like lasagna, ravioli, and', metadata={'source': 'data/data2.txt'}),\n",
       "  Document(page_content='The meat and fish dishes are equally impressive, with offerings like osso buco, saltimbocca, and', metadata={'source': 'data/data2.txt'}),\n",
       "  Document(page_content='the same attention to detail and flavor as their meat-based counterparts.', metadata={'source': 'data/data2.txt'}),\n",
       "  Document(page_content='cooking expertise to the table. The menu features a variety of regional specialties, showcasing the', metadata={'source': 'data/data2.txt'})],\n",
       " [Document(page_content='La Bella Vita also prides itself on its vegetarian and vegan options, catering to all dietary', metadata={'source': 'data/data2.txt'}),\n",
       "  Document(page_content='dietary preferences. Dishes like eggplant parmigiana and mushroom risotto are crafted with the same', metadata={'source': 'data/data2.txt'}),\n",
       "  Document(page_content='the same attention to detail and flavor as their meat-based counterparts.', metadata={'source': 'data/data2.txt'}),\n",
       "  Document(page_content=\"catering services. Whether it's for a special occasion, a business meeting, or a family gathering,\", metadata={'source': 'data/data2.txt'}),\n",
       "  Document(page_content='La Bella Vita also offers a unique dining experience with its private dining rooms and catering', metadata={'source': 'data/data2.txt'}),\n",
       "  Document(page_content='the restaurant provides a personalized service that makes every event memorable.', metadata={'source': 'data/data2.txt'})]]"
      ]
     },
     "execution_count": 24,
     "metadata": {},
     "output_type": "execute_result"
    }
   ],
   "source": [
    "docs = [retriever.get_relevant_documents(query) for query in queries]\n"
   ]
  },
  {
   "cell_type": "code",
   "execution_count": 25,
   "metadata": {},
   "outputs": [],
   "source": [
    "unique_contents = set()\n",
    "unique_docs = []\n",
    "for sublist in docs:\n",
    "    for doc in sublist:\n",
    "        if doc.page_content not in unique_contents:\n",
    "            unique_docs.append(doc)\n",
    "            unique_contents.add(doc.page_content)\n",
    "unique_contents = list(unique_contents)"
   ]
  },
  {
   "cell_type": "code",
   "execution_count": 26,
   "metadata": {},
   "outputs": [
    {
     "data": {
      "text/plain": [
       "[\"catering services. Whether it's for a special occasion, a business meeting, or a family gathering,\",\n",
       " 'The meat and fish dishes are equally impressive, with offerings like osso buco, saltimbocca, and',\n",
       " 'the same attention to detail and flavor as their meat-based counterparts.',\n",
       " 'dietary preferences. Dishes like eggplant parmigiana and mushroom risotto are crafted with the same',\n",
       " 'the restaurant provides a personalized service that makes every event memorable.',\n",
       " 'La Bella Vita also prides itself on its vegetarian and vegan options, catering to all dietary',\n",
       " 'cooking expertise to the table. The menu features a variety of regional specialties, showcasing the',\n",
       " 'The pasta selection is a highlight of the menu, featuring classics like lasagna, ravioli, and',\n",
       " 'from rich and creamy to light and zesty, are made with the freshest ingredients, bringing out the',\n",
       " 'La Bella Vita also offers a unique dining experience with its private dining rooms and catering']"
      ]
     },
     "execution_count": 26,
     "metadata": {},
     "output_type": "execute_result"
    }
   ],
   "source": [
    "unique_contents"
   ]
  },
  {
   "cell_type": "markdown",
   "metadata": {},
   "source": [
    "# Cross-encoder re-ranking"
   ]
  },
  {
   "cell_type": "code",
   "execution_count": 27,
   "metadata": {},
   "outputs": [],
   "source": [
    "from sentence_transformers import CrossEncoder\n",
    "cross_encoder = CrossEncoder('cross-encoder/ms-marco-MiniLM-L-6-v2')"
   ]
  },
  {
   "cell_type": "code",
   "execution_count": 28,
   "metadata": {},
   "outputs": [
    {
     "data": {
      "text/plain": [
       "[['Do you offer vegetarian food?',\n",
       "  \"catering services. Whether it's for a special occasion, a business meeting, or a family gathering,\"],\n",
       " ['Do you offer vegetarian food?',\n",
       "  'The meat and fish dishes are equally impressive, with offerings like osso buco, saltimbocca, and'],\n",
       " ['Do you offer vegetarian food?',\n",
       "  'the same attention to detail and flavor as their meat-based counterparts.'],\n",
       " ['Do you offer vegetarian food?',\n",
       "  'dietary preferences. Dishes like eggplant parmigiana and mushroom risotto are crafted with the same'],\n",
       " ['Do you offer vegetarian food?',\n",
       "  'the restaurant provides a personalized service that makes every event memorable.'],\n",
       " ['Do you offer vegetarian food?',\n",
       "  'La Bella Vita also prides itself on its vegetarian and vegan options, catering to all dietary'],\n",
       " ['Do you offer vegetarian food?',\n",
       "  'cooking expertise to the table. The menu features a variety of regional specialties, showcasing the'],\n",
       " ['Do you offer vegetarian food?',\n",
       "  'The pasta selection is a highlight of the menu, featuring classics like lasagna, ravioli, and'],\n",
       " ['Do you offer vegetarian food?',\n",
       "  'from rich and creamy to light and zesty, are made with the freshest ingredients, bringing out the'],\n",
       " ['Do you offer vegetarian food?',\n",
       "  'La Bella Vita also offers a unique dining experience with its private dining rooms and catering']]"
      ]
     },
     "execution_count": 28,
     "metadata": {},
     "output_type": "execute_result"
    }
   ],
   "source": [
    "pairs = []\n",
    "for doc in unique_contents:\n",
    "    pairs.append([query, doc])\n",
    "\n",
    "pairs"
   ]
  },
  {
   "cell_type": "code",
   "execution_count": 29,
   "metadata": {},
   "outputs": [
    {
     "data": {
      "text/plain": [
       "array([-11.1671715,  -8.007283 , -10.356451 ,  -9.750739 , -10.895904 ,\n",
       "        -2.7005734, -11.102642 , -10.774685 , -10.663025 , -11.079877 ],\n",
       "      dtype=float32)"
      ]
     },
     "execution_count": 29,
     "metadata": {},
     "output_type": "execute_result"
    }
   ],
   "source": [
    "scores = cross_encoder.predict(pairs)\n",
    "scores"
   ]
  },
  {
   "cell_type": "code",
   "execution_count": 30,
   "metadata": {},
   "outputs": [
    {
     "data": {
      "text/plain": [
       "[(-2.7005734,\n",
       "  'La Bella Vita also prides itself on its vegetarian and vegan options, catering to all dietary'),\n",
       " (-8.007283,\n",
       "  'The meat and fish dishes are equally impressive, with offerings like osso buco, saltimbocca, and'),\n",
       " (-9.750739,\n",
       "  'dietary preferences. Dishes like eggplant parmigiana and mushroom risotto are crafted with the same'),\n",
       " (-10.356451,\n",
       "  'the same attention to detail and flavor as their meat-based counterparts.'),\n",
       " (-10.663025,\n",
       "  'from rich and creamy to light and zesty, are made with the freshest ingredients, bringing out the'),\n",
       " (-10.774685,\n",
       "  'The pasta selection is a highlight of the menu, featuring classics like lasagna, ravioli, and'),\n",
       " (-10.895904,\n",
       "  'the restaurant provides a personalized service that makes every event memorable.'),\n",
       " (-11.079877,\n",
       "  'La Bella Vita also offers a unique dining experience with its private dining rooms and catering'),\n",
       " (-11.102642,\n",
       "  'cooking expertise to the table. The menu features a variety of regional specialties, showcasing the'),\n",
       " (-11.1671715,\n",
       "  \"catering services. Whether it's for a special occasion, a business meeting, or a family gathering,\")]"
      ]
     },
     "execution_count": 30,
     "metadata": {},
     "output_type": "execute_result"
    }
   ],
   "source": [
    "scored_docs = zip(scores, unique_contents)\n",
    "sorted_docs = sorted(scored_docs, reverse=True)\n",
    "sorted_docs"
   ]
  },
  {
   "cell_type": "code",
   "execution_count": 31,
   "metadata": {},
   "outputs": [
    {
     "data": {
      "text/plain": [
       "['La Bella Vita also prides itself on its vegetarian and vegan options, catering to all dietary',\n",
       " 'The meat and fish dishes are equally impressive, with offerings like osso buco, saltimbocca, and',\n",
       " 'dietary preferences. Dishes like eggplant parmigiana and mushroom risotto are crafted with the same',\n",
       " 'the same attention to detail and flavor as their meat-based counterparts.',\n",
       " 'from rich and creamy to light and zesty, are made with the freshest ingredients, bringing out the',\n",
       " 'The pasta selection is a highlight of the menu, featuring classics like lasagna, ravioli, and',\n",
       " 'the restaurant provides a personalized service that makes every event memorable.',\n",
       " 'La Bella Vita also offers a unique dining experience with its private dining rooms and catering']"
      ]
     },
     "execution_count": 31,
     "metadata": {},
     "output_type": "execute_result"
    }
   ],
   "source": [
    "reranked_docs = [doc for _, doc in sorted_docs][0:8]\n",
    "reranked_docs"
   ]
  },
  {
   "cell_type": "markdown",
   "metadata": {},
   "source": [
    "### Lost in the middle Problem"
   ]
  },
  {
   "cell_type": "code",
   "execution_count": 32,
   "metadata": {},
   "outputs": [],
   "source": [
    "from langchain_community.document_transformers import (\n",
    "    LongContextReorder\n",
    ")"
   ]
  },
  {
   "cell_type": "code",
   "execution_count": 33,
   "metadata": {},
   "outputs": [
    {
     "data": {
      "text/plain": [
       "['The meat and fish dishes are equally impressive, with offerings like osso buco, saltimbocca, and',\n",
       " 'the same attention to detail and flavor as their meat-based counterparts.',\n",
       " 'The pasta selection is a highlight of the menu, featuring classics like lasagna, ravioli, and',\n",
       " 'La Bella Vita also offers a unique dining experience with its private dining rooms and catering',\n",
       " 'the restaurant provides a personalized service that makes every event memorable.',\n",
       " 'from rich and creamy to light and zesty, are made with the freshest ingredients, bringing out the',\n",
       " 'dietary preferences. Dishes like eggplant parmigiana and mushroom risotto are crafted with the same',\n",
       " 'La Bella Vita also prides itself on its vegetarian and vegan options, catering to all dietary']"
      ]
     },
     "execution_count": 33,
     "metadata": {},
     "output_type": "execute_result"
    }
   ],
   "source": [
    "reordering = LongContextReorder()\n",
    "reordered_docs = reordering.transform_documents(reranked_docs)\n",
    "reordered_docs"
   ]
  }
 ],
 "metadata": {
  "kernelspec": {
   "display_name": "app",
   "language": "python",
   "name": "python3"
  },
  "language_info": {
   "codemirror_mode": {
    "name": "ipython",
    "version": 3
   },
   "file_extension": ".py",
   "mimetype": "text/x-python",
   "name": "python",
   "nbconvert_exporter": "python",
   "pygments_lexer": "ipython3",
   "version": "3.12.2"
  }
 },
 "nbformat": 4,
 "nbformat_minor": 2
}
